{
 "cells": [
  {
   "cell_type": "code",
   "execution_count": null,
   "id": "e06db551-cbd6-470f-8e3e-79847db1ed5c",
   "metadata": {},
   "outputs": [],
   "source": [
    "%%writefile app.py\n",
    "import streamlit as st\n",
    "import pandas as pd\n",
    "import numpy as np\n",
    "from sklearn.ensemble import RandomForestRegressor\n",
    "from sklearn.model_selection import train_test_split\n",
    "from sklearn.preprocessing import StandardScaler, LabelEncoder\n",
    "\n",
    "st.title(\"🌫️ Real-Time Air Quality Index Predictor\")\n",
    "\n",
    "uploaded_file = st.file_uploader(\"Upload your air quality dataset (CSV)\", type=[\"csv\"])\n",
    "\n",
    "if uploaded_file:\n",
    "    df = pd.read_csv(uploaded_file)\n",
    "    df = df.dropna()\n",
    "\n",
    "    label_encoders = {}\n",
    "    for col in df.select_dtypes(include=[\"object\"]).columns:\n",
    "        le = LabelEncoder()\n",
    "        df[col] = le.fit_transform(df[col])\n",
    "        label_encoders[col] = le\n",
    "\n",
    "    X = df.drop(columns=[\"AQI\"])\n",
    "    y = df[\"AQI\"]\n",
    "\n",
    "    scaler = StandardScaler()\n",
    "    X_scaled = scaler.fit_transform(X)\n",
    "\n",
    "    X_train, X_test, y_train, y_test = train_test_split(X_scaled, y, test_size=0.2, random_state=42)\n",
    "\n",
    "    model = RandomForestRegressor()\n",
    "    model.fit(X_train, y_train)\n",
    "\n",
    "    st.subheader(\"📥 Input Features\")\n",
    "    user_input = []\n",
    "    for col in X.columns:\n",
    "        val = st.number_input(f\"{col}\", value=float(np.mean(df[col])))\n",
    "        user_input.append(val)\n",
    "\n",
    "    if st.button(\"Predict AQI\"):\n",
    "        input_scaled = scaler.transform([user_input])\n",
    "        prediction = model.predict(input_scaled)[0]\n",
    "        st.success(f\"🎯 Predicted AQI: {prediction:.2f}\")\n"
   ]
  },
  {
   "cell_type": "code",
   "execution_count": null,
   "id": "e23c3d3b-fee0-41a0-91fc-bb1fae719d4e",
   "metadata": {},
   "outputs": [],
   "source": [
    "!streamlit run app.py"
   ]
  },
  {
   "cell_type": "code",
   "execution_count": null,
   "id": "745ed089-0be6-477c-bf62-0696ee861df0",
   "metadata": {},
   "outputs": [],
   "source": []
  }
 ],
 "metadata": {
  "kernelspec": {
   "display_name": "Python 3 (ipykernel)",
   "language": "python",
   "name": "python3"
  },
  "language_info": {
   "codemirror_mode": {
    "name": "ipython",
    "version": 3
   },
   "file_extension": ".py",
   "mimetype": "text/x-python",
   "name": "python",
   "nbconvert_exporter": "python",
   "pygments_lexer": "ipython3",
   "version": "3.12.3"
  }
 },
 "nbformat": 4,
 "nbformat_minor": 5
}
